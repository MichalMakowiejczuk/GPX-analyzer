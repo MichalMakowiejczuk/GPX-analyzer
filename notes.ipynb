{
 "cells": [
  {
   "cell_type": "code",
   "execution_count": 33,
   "id": "275d8415",
   "metadata": {},
   "outputs": [],
   "source": [
    "dlugosc = 2300     # m\n",
    "gradient = 4.1     # %\n"
   ]
  },
  {
   "cell_type": "code",
   "execution_count": null,
   "id": "1e594c12",
   "metadata": {},
   "outputs": [
    {
     "name": "stdout",
     "output_type": "stream",
     "text": [
      "Category: Easy (Cat 4), Score: 9430.00\n"
     ]
    }
   ],
   "source": [
    "def classify_ascent_difficulty(dl_km, gradient):\n",
    "    \"\"\" Calculates the difficulty score of a climb based on its length and gradient (just like strava).\n",
    "    Args:\n",
    "        dl_km (float): Length of the climb in kilometers.\n",
    "        gradient (float): Average gradient of the climb in percent.\n",
    "    Returns: \n",
    "        tuple: A tuple containing the category as a string and the score as a float.\n",
    "    \"\"\"\n",
    "    score = dl_km* (gradient)\n",
    "    \n",
    "    if score < 8000:\n",
    "        category = \"Very easy (Cat <4)\"\n",
    "    elif score < 16000: # 8 - 16\n",
    "        category = \"Easy (Cat 4)\"\n",
    "    elif score < 32000:\n",
    "        category = \"Medium (Cat 3)\"\n",
    "    elif score < 64000:\n",
    "        category = \"Hard (Cat 2)\"\n",
    "    elif score < 80000:\n",
    "        category = \"Very hard (Cat 1)\"\n",
    "    else:\n",
    "        category = \"Hors catégorie (HC)\"\n",
    "    \n",
    "    return category, score\n",
    "\n",
    "\n",
    "category, score = classify_ascent_difficulty(dlugosc, gradient)\n",
    "print(f\"Category: {category}, Score: {score:.2f}\")\n"
   ]
  }
 ],
 "metadata": {
  "kernelspec": {
   "display_name": ".venv",
   "language": "python",
   "name": "python3"
  },
  "language_info": {
   "codemirror_mode": {
    "name": "ipython",
    "version": 3
   },
   "file_extension": ".py",
   "mimetype": "text/x-python",
   "name": "python",
   "nbconvert_exporter": "python",
   "pygments_lexer": "ipython3",
   "version": "3.13.2"
  }
 },
 "nbformat": 4,
 "nbformat_minor": 5
}
